{
 "cells": [
  {
   "cell_type": "markdown",
   "id": "mexican-offering",
   "metadata": {},
   "source": [
    "# Adressefunksjoner\n",
    "> Funksjoner knyttet til adresseavledning fra FREG systemet\n",
    "\n",
    "## Introduksjon\n",
    "I forbindelse med overgangen til FREG har skatteetaten koblet seg på matrikkelens API. \n",
    "Dette har gjort at FREG nå inneholder betraktelig mer informasjon om personers adresser enn tidligere. \n",
    "Det har også gjort det enklere enn noen gang å koble sammen personer og bygninger. \n",
    "\n",
    "Denne notatboken inneholder funksjoner som knytter seg til det å avlede adresseinformasjon.\n",
    "Dette kan gjøres med forskjellige formål. \n",
    "\n",
    "## adr_26\n",
    "Adresse 26 er en kombinasjon av \n",
    "```kommunenummer - gate/gårdsnummer - husnummer/bruksnummer -  bokstav/festenummer - undernummer - bruksenhetsnummer```\n",
    "Sammen identifiserer disse alle godkjente(?) bruksenheter. \n",
    "I FREG, som i de fleste andre registre, eksisterer ikke adr_26 som en egen variabel og må derfor sammenstilles. \n",
    "Dette kan gjøres med en av disse funksjonene.\n",
    "\n",
    "## To offisielle adresser\n",
    "I Norge opererer vi med to offisielle adresser. \n",
    "Den ene er matrikkeladressen, som idenitfiserer en eiendom; den andre er vegadressen, som identifiserer bygninger. \n",
    "Et adressepunkt har ikke to adresser samtidig, men det er opp til de enkelte kommunenene om de bruker veg- eller matrikkeladresser.\n",
    "I dag har alle kommuner gått over til å bruke vegadresser – men dette er arbeid som tar tid. \n",
    "Derfor er det slik at et bygg enten har en matrikkel- eller en vegadresse, og det er blanding av begge innad i kommunenene. \n",
    "\n",
    "FREG representerer de to adressene i hvert sitt element i alle adresseelementer som er knyttet til en person.\n",
    "Heldigvis er strukturen på disse feltene like."
   ]
  },
  {
   "cell_type": "code",
   "execution_count": null,
   "id": "dress-privacy",
   "metadata": {},
   "outputs": [],
   "source": [
    "#export\n",
    "import os\n",
    "import sys\n",
    "\n",
    "\n",
    "def set_runpath(repo):\n",
    "    repo = '/' + repo\n",
    "    if os.getcwd()[:13] =='/home/runner/':\n",
    "        os.chdir(os.getcwd()[:(os.getcwd().index(repo) + ((len(repo)*2)+1))] )\n",
    "    else:\n",
    "        os.chdir(os.getcwd()[:(os.getcwd().index(repo) + ((len(repo))+1))] )\n",
    "    return print(os.getcwd())"
   ]
  },
  {
   "cell_type": "code",
   "execution_count": null,
   "id": "appreciated-aside",
   "metadata": {},
   "outputs": [],
   "source": [
    "# default_exp freg_adresse_funcs\n",
    "#hide\n",
    "\n",
    "import os\n",
    "import sys\n",
    "set_runpath('stat-freg')\n",
    "\n",
    "import toml\n",
    "paths = toml.load('src/config/filstier.toml')\n",
    "\n",
    "\n"
   ]
  },
  {
   "cell_type": "code",
   "execution_count": null,
   "id": "animated-execution",
   "metadata": {},
   "outputs": [],
   "source": [
    "#exports\n",
    "import sys\n",
    "import os\n",
    "\n",
    "sys.path.append(os.path.abspath(os.getcwd()))\n",
    "\n",
    "from src.scripts import production_settings as ps\n",
    "from ssb_sparktools.processing import processing as stproc\n",
    "import pyspark.sql.functions as F\n",
    "from pyspark.sql import SparkSession\n",
    "from pyspark.sql.types import *\n",
    "from pyspark.sql import SQLContext\n",
    "from pyspark.sql import Window\n",
    "from pyspark.sql.functions import broadcast\n",
    "from pyspark.sql.types import StringType\n",
    "\n",
    "import string\n"
   ]
  },
  {
   "cell_type": "code",
   "execution_count": null,
   "id": "saved-montana",
   "metadata": {},
   "outputs": [],
   "source": [
    "#hide\n",
    "#local\n",
    "prod_path, prod_modus = ps.prod_modus('freg_master')"
   ]
  },
  {
   "cell_type": "code",
   "execution_count": null,
   "id": "approximate-jaguar",
   "metadata": {},
   "outputs": [],
   "source": [
    "#hide\n",
    "#local\n",
    "tversnitt_med_historik = spark.read.path(prod_path+paths['FREG-produkt']['LIVE_MASTER_PATH']).select('folkeregisteridentifikator',\n",
    "                                                                                                     'folkeregisterperson.identifikasjonsnummer',\n",
    "                                                                                                     'folkeregisterperson.bostedsadresse',\n",
    "                                                                                                     'folkeregisterperson.oppholdsadresse'\n",
    "                                                                              )\n",
    "informasjons_element = stproc.unpack_parquet(tversnitt_med_historik, rootvar=['folkeregisteridentifikator'], rootdf=False, levels=1 )"
   ]
  },
  {
   "cell_type": "markdown",
   "id": "offensive-sunrise",
   "metadata": {},
   "source": [
    "## generate_adresse_info\n",
    "Som beskrevet over, er FREG-adresseinformasjon pakket ned i forskjellige informasjonselementer og deretter forskjellige underelementer. \n",
    "Denne funksjonen tar som input et informasjonselement med adresseinformasjon, gitt at alle adresseelementer inneholder underelementer, som inneholder adresseinformasjonen.\n",
    "Får å få tak i sistnevnte må vi foreta en sekundær utpakking, begrenset til innenfor denne funksjonen.\n",
    "\n",
    "Matrikkel- og vegadresser prosesseres separat, før de kombineres på slutten av funksjonen. \n",
    "\n",
    "Ett av kravene til innputten, er `rootvar`, som er en liste av variabler som skal følge adresseinformasjonen gjennom prossessen.\n",
    "For å kunne koble adresseinformasjonen tilbake til det opprinnelige datasettet trenger du i alle fall én variabel i denne listen, og \n",
    "som regel vil dette være `folkeregisteridentifikator`.\n",
    "Dersom en person kan være representert med mer enn en adresse i datasettet, må det også inkluderes en variabel som i kombinasjon med `folkeregisteridentifikator`, unikt identifiserer en adresseinstans.\n",
    "I vanlig produksjon vil dette mest sannsylig være en `*_id`-variabel. \n",
    "\n",
    "Som beskrevet innledningsvis, har veg- og matrikkeladresser forskjellige navn på de forskjellige posisjonenene i den numeriske adressen. \n",
    "For å sammenstille til en enhetlig adresseinformasjon må disse forskjellene harmoniseres. I funksjonen gjøres dette før datasettene er kombinert.\n",
    "I tillegg til harmoniseringen av kolonnenavn, fylles ikke-utfylte variabler med `0`, for å sikre at totalantallet for den numeriske adressen er stabil.\n",
    "\n",
    "Her er også et filter som fjerner tomme adresser, som er adresser der alle 26 posisjoner består av `0`.\n",
    "\n",
    "Funksjonen retunerer et datasett med de variablene du oppgir i `rootvar`, som koblingsnøkler.\n",
    "I tillegg til den kombinerte adr_26-variabelen, retuneres også den dekonstruerte adresseinformasjonen. "
   ]
  },
  {
   "cell_type": "code",
   "execution_count": null,
   "id": "internal-liechtenstein",
   "metadata": {},
   "outputs": [],
   "source": [
    "#export\n",
    "def husnummer_omkoding(husbokstav):\n",
    "    import string\n",
    "    nummer = (string.ascii_uppercase.index(str.upper(husbokstav))+1)\n",
    "    padded = '99'+'{0:02d}'.format(nummer)\n",
    "    return padded"
   ]
  },
  {
   "cell_type": "code",
   "execution_count": null,
   "id": "independent-techno",
   "metadata": {},
   "outputs": [],
   "source": [
    "#exports\n",
    "def get_adresse_info(df , rootvar=['folkeregisteridentifikator']):\n",
    "    \"\"\"\n",
    "    Funksjon for å utlede full adresse informasjon. \n",
    "    \"\"\"\n",
    "    adr = stproc.unpack_parquet(df, \n",
    "                                 rootvar=rootvar, \n",
    "                                 rootdf=False, \n",
    "                                 levels=1 )\n",
    "    \n",
    "    base_list = ['kommunenummer',\n",
    "                 'gatenr_gaardsnr',\n",
    "                 'husnr_bruksnr', \n",
    "                 'bokstav_festenr',\n",
    "                 'undernummer',\n",
    "                 'bruksenhetsnummer',\n",
    "                 'bruksenhetstype',\n",
    "                 'adresse_type',\n",
    "                ]\n",
    "    \n",
    "    select_list = rootvar+base_list\n",
    "    \n",
    "    vegadresser = (adr['vegadresse']\n",
    "                   .filter(F.col('adressekode').isNotNull())\n",
    "                   .withColumn('husnr_bruksnr',F.lpad(F.col('adressenummer.husnummer'),4,'0'))\n",
    "                   .withColumn('bokstav_festenr', F.lpad(F.col('adressenummer.husbokstav'),4,'0'))\n",
    "                   .withColumn('undernummer', F.lit('0000'))\n",
    "                   .withColumn('gatenr_gaardsnr',F.lpad('adressekode',5,'0'))\n",
    "                   .withColumn('bruksenhetsnummer',  F.lpad('bruksenhetsnummer',5,'0'))\n",
    "                   .withColumn('adresse_type', F.lit('O'))\n",
    "                   .select(select_list)\n",
    "                   .dropDuplicates()\n",
    "                   .fillna('0000', subset=['undernummer', 'bokstav_festenr','kommunenummer', 'Husnr_bruksnr'])\n",
    "                   .fillna('00000', subset=['bruksenhetsnummer','gatenr_gaardsnr'])\n",
    "                   .select('*', F.concat('kommunenummer', 'gatenr_gaardsnr', 'husnr_bruksnr', 'bokstav_festenr', 'undernummer' , 'bruksenhetsnummer').alias('adr_26'))\n",
    "                   \n",
    "                  )\n",
    "    \n",
    "    \n",
    "    matrikkeladresser = (adr['matrikkeladresse']\n",
    "                         .filter(F.col('matrikkelnummer').isNotNull())\n",
    "                         .withColumn('kommunenummer',F.lpad(F.col('matrikkelnummer.kommunenummer'),4,'0'))\n",
    "                         .withColumn('gatenr_gaardsnr', F.lpad(F.col('matrikkelnummer.gaardsnummer'),5,'0'))\n",
    "                         .withColumn('husnr_bruksnr',F.lpad(F.col('matrikkelnummer.bruksnummer'),4,'0'))\n",
    "                         .withColumn('undernummer',F.lpad(F.col('undernummer'),4,'0'))\n",
    "                         .withColumn('bruksenhetsnummer',F.lpad('bruksenhetsnummer',5,'0'))\n",
    "                         .withColumn('bokstav_festenr', F.lpad(F.col('matrikkelnummer.festenummer'),4,'0'))\n",
    "                         .withColumn('adresse_type', F.lit('M'))\n",
    "                         .select(select_list)\n",
    "                         .dropDuplicates()\n",
    "                         .fillna('0000', subset=['kommunenummer', 'husnr_bruksnr','bokstav_festenr', 'undernummer'])\n",
    "                         .fillna('00000', subset=['bruksenhetsnummer','gatenr_gaardsnr'])\n",
    "                         .select('*', F.concat('kommunenummer', 'gatenr_gaardsnr', 'husnr_bruksnr', 'bokstav_festenr', 'undernummer', 'bruksenhetsnummer' ).alias('adr_26'))\n",
    "                        )\n",
    "    ukjent_bosted = (adr['ukjentBosted']\n",
    "                     .filter(F.col('bostedskommune').isNotNull())\n",
    "                     .withColumnRenamed('bostedskommune','kommunenummer')\n",
    "                         .withColumn('gatenr_gaardsnr', F.lit('00000'))\n",
    "                         .withColumn('husnr_bruksnr',F.lit('0000'))\n",
    "                         .withColumn('undernummer',F.lit('0000'))\n",
    "                         .withColumn('bruksenhetsnummer',F.lit('00000'))\n",
    "                         .withColumn('bokstav_festenr', F.lit('0000'))\n",
    "                         .withColumn('adresse_type', F.lit('ukjent'))\n",
    "                     .withColumn('bruksenhetstype', F.lit(None))\n",
    "                     .select(select_list)\n",
    "                     .select('*', F.concat('kommunenummer', 'gatenr_gaardsnr', 'husnr_bruksnr', 'bokstav_festenr', 'undernummer', 'bruksenhetsnummer' ).alias('adr_26'))\n",
    "                    )\n",
    "    \n",
    "    adresse_info = vegadresser.union(matrikkeladresser).union(ukjent_bosted)\n",
    "    \n",
    "    adresse_info = adresse_info.withColumn('bruksenhetsnummer', F.when(F.col('bruksenhetsnummer')=='00000', F.lit(None)).otherwise((F.col('bruksenhetsnummer'))))\n",
    "\n",
    "    return adresse_info"
   ]
  },
  {
   "cell_type": "markdown",
   "id": "spatial-gallery",
   "metadata": {},
   "source": [
    "### TEST: get_adresse_info\n",
    "Koden under dette punktet består av enhetstester (unit-tester) som er skrevet for å kontrollere funksjonaliteten til get_adresse_info-funksjonen.\n",
    "Den inneholder stort sett bare tester som kjøres lokalt, noe som skyldes at testdataene ikke er tilgjengelig på _remote test_-serveren.\n",
    "Akkurat det kan endre seg over tid, men per nå er det slik.\n",
    "\n",
    "Det vil gjennomgås grupperinger av tester for å beskrive hvilket formål disse testene dekker.\n",
    "Dette er ikke det endelige settet med tester, men det er en start."
   ]
  },
  {
   "cell_type": "code",
   "execution_count": null,
   "id": "developing-editor",
   "metadata": {},
   "outputs": [],
   "source": [
    "#hide\n",
    "#local\n",
    "test_tversnitt_med_historik = spark.read.parquet('../../../tests/test_data/updated_master').select('folkeregisteridentifikator',\n",
    "                                                                                                     'folkeregisterperson.identifikasjonsnummer',\n",
    "                                                                                                     'folkeregisterperson.bostedsadresse',\n",
    "                                                                                                     'folkeregisterperson.oppholdsadresse')\n",
    "test_informasjons_element = stproc.unpack_parquet(test_tversnitt_med_historik, rootvar=['folkeregisteridentifikator'], rootdf=False, levels=1 )"
   ]
  },
  {
   "cell_type": "markdown",
   "id": "timely-subsection",
   "metadata": {},
   "source": [
    "Disse testene skal sjekke at funksjonen ikke fjerner data og at data inn samsvarer med data ut. \n",
    "De sjekker også at funksjonen klarer å velge korrekt antall enheter med henholdsvis veg- og matrikkeladresser som er kommet inn med data-innputten "
   ]
  },
  {
   "cell_type": "code",
   "execution_count": null,
   "id": "original-authentication",
   "metadata": {},
   "outputs": [],
   "source": [
    "#local\n",
    "Adresse_info = get_adresse_info(test_informasjons_element['bostedsadresse'], rootvar=['folkeregisteridentifikator', 'bostedsadresse_id'])\n",
    "assert Adresse_info.count() == test_informasjons_element['bostedsadresse'].select('folkeregisteridentifikator','bostedsadresse_id','matrikkeladresse', 'vegadresse', 'ukjentBosted').dropDuplicates().count()\n",
    "assert Adresse_info.filter(F.col('adresse_type')=='M').count() == test_informasjons_element['bostedsadresse'].filter(F.col('matrikkeladresse').isNotNull()).count()\n",
    "assert Adresse_info.filter(F.col('adresse_type')=='O').count() == test_informasjons_element['bostedsadresse'].filter(F.col('vegadresse').isNotNull()).count()\n"
   ]
  },
  {
   "cell_type": "markdown",
   "id": "israeli-uganda",
   "metadata": {},
   "source": [
    "Adr_26 og dens bestanddeler har en spesifikk lengde som sikrer at det endelige resultatet blir korrekt. \n",
    "Flere av komponentene krever derfor en padding for å oppnå denne lengden.\n",
    "Testene i denne bolken sjekker at variablene får korrekt lengde."
   ]
  },
  {
   "cell_type": "code",
   "execution_count": null,
   "id": "innocent-reconstruction",
   "metadata": {},
   "outputs": [],
   "source": [
    "#local\n",
    "assert Adresse_info.where(F.length(F.col('adr_26'))<26).count() == 0\n",
    "assert Adresse_info.where(F.length(F.col('kommunenummer'))<4).count() == 0\n",
    "assert Adresse_info.where(F.length(F.col('gatenr_gaardsnr'))<5).count() == 0\n",
    "assert Adresse_info.where(F.length(F.col('husnr_bruksnr'))<4).count() == 0\n",
    "assert Adresse_info.where(F.length(F.col('bokstav_festenr'))<4).count() == 0\n",
    "assert Adresse_info.where(F.length(F.col('undernummer'))<4).count() == 0\n",
    "assert Adresse_info.where(F.length(F.col('bruksenhetsnummer'))<5).count() == 0\n",
    "assert Adresse_info.where(F.length(F.col('adresse_type'))<1).count() == 0"
   ]
  },
  {
   "cell_type": "markdown",
   "id": "varied-causing",
   "metadata": {},
   "source": [
    "get_adresse_info-funksjonen skal ta variablene den mottar som del av rootvar og legge disse til resultatet."
   ]
  },
  {
   "cell_type": "code",
   "execution_count": null,
   "id": "personal-contribution",
   "metadata": {},
   "outputs": [],
   "source": [
    "#local\n",
    "valid_col = ['folkeregisteridentifikator',\n",
    "             'bostedsadresse_id',\n",
    "             'kommunenummer',\n",
    "                 'gatenr_gaardsnr',\n",
    "                 'husnr_bruksnr', \n",
    "                 'bokstav_festenr',\n",
    "                 'undernummer',\n",
    "                 'bruksenhetsnummer',\n",
    "                 'bruksenhetstype',\n",
    "                 'adresse_type',\n",
    "             'adr_26'\n",
    "                ]\n",
    "assert Adresse_info.columns == valid_col"
   ]
  },
  {
   "cell_type": "markdown",
   "id": "interested-healthcare",
   "metadata": {},
   "source": [
    "Variabelen `adresse_type` er en konstruert variabel. \n",
    "Vi har derfor en funksjon som skjekker at variabelen kun inneholder gyldige verdier.\n",
    "`bruksenhetsnummer` og `bruksenhetstype` er i tillegg klassifiseringsvariabler. \n",
    "Av den grunn har vi tester som skjekker at funksjonen ikke introduserer ugyldige variabler."
   ]
  },
  {
   "cell_type": "code",
   "execution_count": null,
   "id": "numerical-shame",
   "metadata": {},
   "outputs": [],
   "source": [
    "#local\n",
    "assert Adresse_info.where(F.col('adresse_type').substr(0,1).isin(['M', 'O','ukjent'])==False).count() == 0\n",
    "assert Adresse_info.where(F.col('bruksenhetsnummer').substr(0,1).isin(['0','H','U'])==False).count() == 0\n",
    "assert Adresse_info.where(F.col('bruksenhetstype').isin(['bolig','fritidsbolig','null'])==False).count() == 0"
   ]
  },
  {
   "cell_type": "markdown",
   "id": "continental-citizenship",
   "metadata": {},
   "source": [
    "#hide\n",
    "Denne nedenforliggende snutten er lagt inn midlertidig for å fullføre en oppdatering av BEREG.\n",
    "Denne koden slettes etter oppdateringen."
   ]
  },
  {
   "cell_type": "code",
   "execution_count": null,
   "id": "massive-hamburg",
   "metadata": {},
   "outputs": [],
   "source": [
    "#hide\n",
    "#local\n",
    "#Skript for å ta ut alle bosattes bruksenhetsnummer for BEREG Oppdatering. Slettes etter bruk!\n",
    "personer = (informasjons_element['bostedsadresse'].filter(F.col('erGjeldende')=='true'))\n",
    "adresser = get_adresse_info(personer)\n",
    "adresser.show()\n",
    "print(adresser.count())\n",
    "(adresser.write\n",
    " .option(\"valuation\", \"INTERNAL\")\n",
    " .option(\"state\", \"INPUT\")\n",
    " .path('/produkt/freg/temp/etablere_klargjoring/utgaatte_variabler/Bruksenhetsnummer_oppdatering')\n",
    ")"
   ]
  }
 ],
 "metadata": {
  "kernelspec": {
   "display_name": "Pyspark (k8s cluster)",
   "language": "python",
   "name": "pyspark_k8s"
  }
 },
 "nbformat": 4,
 "nbformat_minor": 5
}
